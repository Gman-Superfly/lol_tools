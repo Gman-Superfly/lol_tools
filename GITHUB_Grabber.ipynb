{
  "nbformat": 4,
  "nbformat_minor": 0,
  "metadata": {
    "colab": {
      "provenance": []
    },
    "kernelspec": {
      "name": "python3",
      "display_name": "Python 3"
    },
    "language_info": {
      "name": "python"
    }
  },
  "cells": [
    {
      "cell_type": "code",
      "execution_count": 1,
      "metadata": {
        "colab": {
          "base_uri": "https://localhost:8080/"
        },
        "id": "pONMwr2cPNz3",
        "outputId": "98eb733b-2ced-49af-eb54-e29e9c3d5227"
      },
      "outputs": [
        {
          "output_type": "stream",
          "name": "stdout",
          "text": [
            "Zip file 'documentation.zip' created successfully.\n"
          ]
        }
      ],
      "source": [
        "import requests\n",
        "import zipfile\n",
        "import io\n",
        "import os\n",
        "\n",
        "def download_and_zip_github_docs(github_repo_path, output_zip_filename=\"documentation.zip\"):\n",
        "    \"\"\"Downloads files from a GitHub repository and creates a zip archive (recursive).\"\"\"\n",
        "\n",
        "    try:\n",
        "        parts = github_repo_path.split(\"/\")\n",
        "        if \"tree\" not in parts:\n",
        "            raise ValueError(\"Invalid GitHub path. Must use the 'tree' URL format.\")\n",
        "\n",
        "        tree_index = parts.index(\"tree\")\n",
        "        owner = parts[tree_index - 2]\n",
        "        repo = parts[tree_index - 1]\n",
        "        branch = parts[tree_index + 1]\n",
        "        base_path = \"/\".join(parts[tree_index + 2:])\n",
        "\n",
        "\n",
        "        def download_recursive(path, zip_file):\n",
        "            response = requests.get(f\"https://api.github.com/repos/{owner}/{repo}/contents/{path}?ref={branch}\")\n",
        "            response.raise_for_status()\n",
        "            contents = response.json()\n",
        "\n",
        "            for item in contents:\n",
        "                if item[\"type\"] == \"file\":\n",
        "                    file_url = item[\"download_url\"]\n",
        "                    file_content = requests.get(file_url).content\n",
        "                    zip_path = os.path.relpath(item[\"path\"], base_path) # Correct path in zip\n",
        "                    zip_file.writestr(zip_path, file_content)\n",
        "                elif item[\"type\"] == \"dir\":\n",
        "                    download_recursive(item[\"path\"], zip_file) # Recursive call for subs\n",
        "\n",
        "\n",
        "        zip_buffer = io.BytesIO()\n",
        "        with zipfile.ZipFile(zip_buffer, \"w\") as zip_file:\n",
        "            download_recursive(base_path, zip_file)\n",
        "\n",
        "        zip_buffer.seek(0)\n",
        "\n",
        "        with open(output_zip_filename, \"wb\") as f:\n",
        "            f.write(zip_buffer.read())\n",
        "\n",
        "        print(f\"Zip file '{output_zip_filename}' created successfully.\")\n",
        "\n",
        "    except requests.exceptions.RequestException as e:\n",
        "        print(f\"Error accessing GitHub API or downloading files: {e}\")\n",
        "    except zipfile.BadZipFile as e:\n",
        "        print(f\"Error creating zip file: {e}\")\n",
        "    except ValueError as e:\n",
        "      print(f\"Error: {e}\")\n",
        "\n",
        "\n",
        "# run dis:\n",
        "github_repo_path = \"huggingface/smolagents/tree/main/docs/source/en\"\n",
        "download_and_zip_github_docs(github_repo_path)"
      ]
    },
    {
      "cell_type": "code",
      "source": [],
      "metadata": {
        "id": "DbyB28wrPO_z"
      },
      "execution_count": null,
      "outputs": []
    }
  ]
}